{
 "cells": [
  {
   "cell_type": "code",
   "execution_count": 3,
   "metadata": {},
   "outputs": [],
   "source": [
    "res.qPCR= function(data){\n",
    "    \n",
    "Cq_num <- as.numeric(as.character(res$Cq))\n",
    "res<- cbind(res, Cq_num)\n",
    "res<- res[,c(1,2,3,5)]\n",
    "res[is.na(res)] <- 40.0\n",
    "is.num <- sapply(res, is.numeric)\n",
    "res[is.num] <- lapply(res[is.num], round, 1)\n",
    "\n",
    "RP_res<- subset(res, res$Target==\"RP\")\n",
    "N1_res<- subset(res, res$Target==\"N1\")\n",
    "N2_res<- subset(res, res$Target==\"N2\")\n",
    "res<- cbind(N1_res, N2_res, RP_res)\n",
    "res<-res[,c(2,4,8,12)]\n",
    "names(res)<- c(\"Sample\", \"N1\", \"N2\", \"RP\")\n",
    "is.num <- sapply(res, is.numeric)\n",
    "res[is.num] <- lapply(res[is.num], round, 1)\n",
    "\n",
    "sample_pos<-subset(res, N1 <= 38 & N2 <= 38 & RP <= 38)\n",
    "resp<- rep(\"Detectado\", nrow(sample_pos))\n",
    "sample_pos_final<- cbind(sample_pos, resp)\n",
    "\n",
    "sample_neg<- subset(res, N1 >= 40 & N2 >= 40 & RP <= 38 )\n",
    "resp<- rep(\"Não Detectado\", nrow(sample_neg))\n",
    "sample_neg_final<- cbind(sample_neg, resp)\n",
    "\n",
    "sample_repExt<- subset(res, RP > 38)\n",
    "resp<- rep(\"Rep Extração\", nrow(sample_repExt))\n",
    "sample_RepE_final<- cbind(sample_repExt, resp)\n",
    "\n",
    "sample_ind1<- subset(res, N1 > 38 & N1 < 40)\n",
    "sample_ind2<- subset(res, N2 > 38 & N2 < 40)\n",
    "\n",
    "sample_ind<- rbind(sample_ind1, sample_ind2)\n",
    "resp<- rep(\"Indeterminado\", nrow(sample_ind))\n",
    "sample_Ind_final<- cbind(sample_ind, resp)\n",
    "\n",
    "final_results<- rbind(sample_pos_final, sample_neg_final,sample_RepE_final,sample_Ind_final )\n",
    "final_results[final_results == 40]<- \"Não Detectado\"\n",
    "\n",
    "final_results<- final_results[!duplicated(final_results$Sample), ]\n",
    "\n",
    "write.csv(final_results,\"Results_final\")\n",
    "  \n",
    "return(head(final_results, 40))\n",
    "\n",
    "}"
   ]
  },
  {
   "cell_type": "code",
   "execution_count": 4,
   "metadata": {},
   "outputs": [],
   "source": [
    "save.image()"
   ]
  },
  {
   "cell_type": "code",
   "execution_count": null,
   "metadata": {},
   "outputs": [],
   "source": []
  }
 ],
 "metadata": {
  "kernelspec": {
   "display_name": "R",
   "language": "R",
   "name": "ir"
  },
  "language_info": {
   "codemirror_mode": "r",
   "file_extension": ".r",
   "mimetype": "text/x-r-source",
   "name": "R",
   "pygments_lexer": "r",
   "version": "3.4.1"
  }
 },
 "nbformat": 4,
 "nbformat_minor": 2
}
